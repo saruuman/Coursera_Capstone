{
 "cells": [
  {
   "cell_type": "markdown",
   "metadata": {},
   "source": [
    "<h1>Data science Capstone project</h1>"
   ]
  },
  {
   "cell_type": "markdown",
   "metadata": {},
   "source": [
    "<h2>1. Business understanding</h2>"
   ]
  },
  {
   "cell_type": "markdown",
   "metadata": {},
   "source": [
    "<p>A Restaurant chain: Lunch Party  is planning to open a new restaurant in Dublin. We need to identify the neighbourhood which will likely be a success for the restaurant. The chain has several restaurants in Scotland, England, Spain and France in different cities. Each with a different ROI (Revenue on investment).</p>\n",
    "<h5>Available data:</h5> \n",
    "    <li>Geolocation of existing restaurants and potential neighbourhoods for new restaurant</li>\n",
    "    <li>ROI of existing restaurants</li>\n",
    "<h5>Problem:</h5>\n",
    "<p>\n",
    "How can we identify a neighborhood, based on its location and the chain’s history and experience in other cities?</p>\n",
    "<h5>Approach:</h5>\n",
    "<p>Our approach is to cluster the potential neighbourhoods and the neighbourhoods where the chain has already established a restaurant, according to the category of venues close to each neighbourhood. And then choose the neighbourhood that belongs to the cluster with the most success rate. If there is a conflict: two potential neighbourhoods belong to most successful cluster we’ll be using other metrics: choose the neighbourhood with less restaurants (for example)</p>\n",
    "<h1>2. Data description:</h1>\n",
    "<li>Categories of the venues in each eighbourhood venues (Foursquare API): It will help us group similar neighbourhoods.</li> \n",
    "<li>ROI of existing restaurants: It will help us identify the most successful cluster.</li>\n"
   ]
  }
 ],
 "metadata": {
  "kernelspec": {
   "display_name": "Python",
   "language": "python",
   "name": "conda-env-python-py"
  },
  "language_info": {
   "codemirror_mode": {
    "name": "ipython",
    "version": 3
   },
   "file_extension": ".py",
   "mimetype": "text/x-python",
   "name": "python",
   "nbconvert_exporter": "python",
   "pygments_lexer": "ipython3",
   "version": "3.6.7"
  }
 },
 "nbformat": 4,
 "nbformat_minor": 4
}
